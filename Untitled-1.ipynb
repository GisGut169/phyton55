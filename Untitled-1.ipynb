{
 "cells": [
  {
   "cell_type": "code",
   "execution_count": 1,
   "metadata": {},
   "outputs": [
    {
     "name": "stdout",
     "output_type": "stream",
     "text": [
      "False\n",
      "True\n",
      "False\n"
     ]
    }
   ],
   "source": [
    "print(1 > 3)  # False\n",
    "print(3 == 3)  # True\n",
    "print(4 < 3)  # False"
   ]
  },
  {
   "cell_type": "code",
   "execution_count": 11,
   "metadata": {},
   "outputs": [
    {
     "name": "stdout",
     "output_type": "stream",
     "text": [
      "0603\n",
      "1009\n",
      "Hoy no es tu cumpleaños.\n"
     ]
    }
   ],
   "source": [
    "fecha_hoy= input (\"Ingreesa la fecha de hoy\")\n",
    "print(fecha_hoy)\n",
    "fecha_nacimiento= input(\"¿En qué fecha naciste?\")\n",
    "print(fecha_nacimiento)\n",
    "\n",
    "if fecha_hoy == fecha_nacimiento :\n",
    "    print(\"¡Feliz cumpleaños!\")\n",
    "else:\n",
    "    print(\"Hoy no es tu cumpleaños.\")\n"
   ]
  },
  {
   "cell_type": "code",
   "execution_count": 1,
   "metadata": {},
   "outputs": [],
   "source": [
    "n1 = int(input(\"Por favor ingresa el primer número: \"))\n",
    "n2 = int(input(\"Por favor ingresa el segundo número: \"))\n",
    "\n",
    "res_n1 = n1 * 5\n",
    "res_n2 = n2 + 3\n",
    "\n",
    "print(f\"{n1}*5 = {n2}+3\")\n",
    "print(f\"{n1}*5 = {res_n1}\")\n",
    "print(f\"{n2}+3 = {res_n2}\")\n",
    "\n",
    "if res_n1 == res_n2:\n",
    "    print(\"¡Los resultados son iguales!\")\n",
    "else:\n",
    "    print(\"Los resultados son diferentes.\")"
   ]
  },
  {
   "cell_type": "code",
   "execution_count": 6,
   "metadata": {},
   "outputs": [
    {
     "name": "stdout",
     "output_type": "stream",
     "text": [
      "¡Tu código postal está dentro del rango de entrega\n"
     ]
    }
   ],
   "source": [
    "codigo_postal = int(input(\"Por favor ingresa tu código postal: \"))\n",
    "if 50000 <= codigo_postal <= 50030:\n",
    "    print(\"Tu código postal está dentro del rango de entrega\")\n",
    "else:\n",
    "    print(\"Lo siento, tu código postal está fuera del rango de entrega.\")\n"
   ]
  }
 ],
 "metadata": {
  "kernelspec": {
   "display_name": "Python 3",
   "language": "python",
   "name": "python3"
  },
  "language_info": {
   "codemirror_mode": {
    "name": "ipython",
    "version": 3
   },
   "file_extension": ".py",
   "mimetype": "text/x-python",
   "name": "python",
   "nbconvert_exporter": "python",
   "pygments_lexer": "ipython3",
   "version": "3.11.3"
  }
 },
 "nbformat": 4,
 "nbformat_minor": 2
}
